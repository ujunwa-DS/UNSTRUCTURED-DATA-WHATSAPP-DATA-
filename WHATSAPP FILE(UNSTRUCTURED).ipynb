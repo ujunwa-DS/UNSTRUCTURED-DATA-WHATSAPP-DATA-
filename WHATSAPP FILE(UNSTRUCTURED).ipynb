{
 "cells": [
  {
   "cell_type": "code",
   "execution_count": 1,
   "id": "45b2e4a3",
   "metadata": {},
   "outputs": [],
   "source": [
    "#importing att the libraries needed\n",
    "import pandas as pd #this is used for dataframe as i will need it structured\n",
    "import datetime #datetime is used to structure the date and for proper spliting to obtain a better date structure\n",
    "import regex #there are many unstructured pateern in the chat, regex is used in finding the pattern\n",
    "import numpy as np #for numbers\n",
    "import matplotlib as plt #for visualization"
   ]
  },
  {
   "cell_type": "code",
   "execution_count": 2,
   "id": "e7ecb82e",
   "metadata": {},
   "outputs": [],
   "source": [
    "def date_time(s): #prepare for the extraction of time\n",
    "    pattern = '^([0-9]+)(\\/)([0-9]+)(\\/)([0-9]+), ([0-9]+):([0-9]+)[ ]?(AM|PM|am|pm)? -' #Regex pattern that needs to be identify\n",
    "    result = regex.match(pattern, s)# matching the pattern with my chat date and time pattern. \n",
    "    if result:\n",
    "        return True\n",
    "    return False"
   ]
  },
  {
   "cell_type": "code",
   "execution_count": 3,
   "id": "8c32997f",
   "metadata": {},
   "outputs": [],
   "source": [
    "def writer(s): #splitting at the colon to \n",
    "    s=s.split(':')\n",
    "    if len(s)==2: # determining the lines of comment and giving condition for the return value\n",
    "        return True\n",
    "    else:\n",
    "        return False"
   ]
  },
  {
   "cell_type": "code",
   "execution_count": 6,
   "id": "72d5e8c5",
   "metadata": {},
   "outputs": [],
   "source": [
    "def starts(line): # defining a function that will help extract both the date, time and comment\n",
    "    divide=line.split(' - ') # since the a dash differentiates the time from the author, i split there too. \n",
    "    datetime=divide[0]\n",
    "    date, time= datetime.split(', ') # splitting date and time at the comma. Now 3 lines has been obtain which include; date, time and comment. \n",
    "    comment=' '.join(divide[1:])\n",
    "    if writer(comment):\n",
    "        splitmessage=comment.split(': ')\n",
    "        author=splitmessage[0]\n",
    "        comment= \" \". join(splitmessage[1:])\n",
    "    else:\n",
    "        author=None\n",
    "    return date,time,author,comment # splitted the four component of the chat which is the date, time, authou(writer) and the message itself"
   ]
  },
  {
   "cell_type": "code",
   "execution_count": 8,
   "id": "eed8d8fd",
   "metadata": {},
   "outputs": [],
   "source": [
    "df=[] # created an empty list which i will append all the columns to. \n",
    "work= ('whatsapp.txt') #imported the message name whatsapp which is in a text form.\n",
    "with open (work, encoding='utf-8') as error: # knowning that it is a dirty data and will throw utf error, i encoded the error too. \n",
    "    error.readline()\n",
    "    messages=[]\n",
    "    date,time,author= None, None, None\n",
    "    while True:\n",
    "        line=error.readline() # gradually stripping the lines that would have caused the errors. \n",
    "        if not line:\n",
    "            break\n",
    "        line=line.strip()\n",
    "        if date_time(line):\n",
    "            if len(messages) > 0:\n",
    "                df.append([date,time,author, \" \".join(messages)]) #appending the new errorless lines to the to the empty list created while separating author and comment by a space \n",
    "            messages.clear()\n",
    "            date,time,author, comment= starts(line) #there are messages without author, add them and their messages without message body rather, images, add them too. \n",
    "            messages.append(comment)\n",
    "        else:\n",
    "            messages.append(line)"
   ]
  },
  {
   "cell_type": "code",
   "execution_count": 10,
   "id": "bda0950e",
   "metadata": {},
   "outputs": [],
   "source": [
    "df = pd.DataFrame(df, columns=['Date', 'Time', 'Author', 'Message']) # turn it into a pandas datafrane to have it structure for analysis\n",
    "df['Date']=pd.to_datetime(df['Date']) # adding the date in pandas recongnizable date time datetime method"
   ]
  },
  {
   "cell_type": "code",
   "execution_count": 11,
   "id": "4e4b9e61",
   "metadata": {},
   "outputs": [
    {
     "data": {
      "text/html": [
       "<div>\n",
       "<style scoped>\n",
       "    .dataframe tbody tr th:only-of-type {\n",
       "        vertical-align: middle;\n",
       "    }\n",
       "\n",
       "    .dataframe tbody tr th {\n",
       "        vertical-align: top;\n",
       "    }\n",
       "\n",
       "    .dataframe thead th {\n",
       "        text-align: right;\n",
       "    }\n",
       "</style>\n",
       "<table border=\"1\" class=\"dataframe\">\n",
       "  <thead>\n",
       "    <tr style=\"text-align: right;\">\n",
       "      <th></th>\n",
       "      <th>Date</th>\n",
       "      <th>Time</th>\n",
       "      <th>Author</th>\n",
       "      <th>Message</th>\n",
       "    </tr>\n",
       "  </thead>\n",
       "  <tbody>\n",
       "    <tr>\n",
       "      <th>0</th>\n",
       "      <td>2022-10-07</td>\n",
       "      <td>11:49 AM</td>\n",
       "      <td>None</td>\n",
       "      <td>+234 902 605 1084 created group \"Data Analysis...</td>\n",
       "    </tr>\n",
       "    <tr>\n",
       "      <th>1</th>\n",
       "      <td>2022-10-08</td>\n",
       "      <td>7:30 PM</td>\n",
       "      <td>None</td>\n",
       "      <td>+234 902 605 1084 added you</td>\n",
       "    </tr>\n",
       "    <tr>\n",
       "      <th>2</th>\n",
       "      <td>2022-10-08</td>\n",
       "      <td>7:31 PM</td>\n",
       "      <td>None</td>\n",
       "      <td>+234 902 605 1084 added +44 7466 731014</td>\n",
       "    </tr>\n",
       "    <tr>\n",
       "      <th>3</th>\n",
       "      <td>2022-10-08</td>\n",
       "      <td>7:34 PM</td>\n",
       "      <td>None</td>\n",
       "      <td>+234 902 605 1084 added +44 7448 451577</td>\n",
       "    </tr>\n",
       "    <tr>\n",
       "      <th>4</th>\n",
       "      <td>2022-10-08</td>\n",
       "      <td>7:38 PM</td>\n",
       "      <td>None</td>\n",
       "      <td>+234 902 605 1084 added +44 7411 177313</td>\n",
       "    </tr>\n",
       "    <tr>\n",
       "      <th>...</th>\n",
       "      <td>...</td>\n",
       "      <td>...</td>\n",
       "      <td>...</td>\n",
       "      <td>...</td>\n",
       "    </tr>\n",
       "    <tr>\n",
       "      <th>1156</th>\n",
       "      <td>2022-11-26</td>\n",
       "      <td>5:19 PM</td>\n",
       "      <td>+234 806 307 5179</td>\n",
       "      <td>Does it mean there is another training this year?</td>\n",
       "    </tr>\n",
       "    <tr>\n",
       "      <th>1157</th>\n",
       "      <td>2022-11-26</td>\n",
       "      <td>5:20 PM</td>\n",
       "      <td>None</td>\n",
       "      <td>+234 810 108 3974: https://www.instagram.com/p...</td>\n",
       "    </tr>\n",
       "    <tr>\n",
       "      <th>1158</th>\n",
       "      <td>2022-11-26</td>\n",
       "      <td>5:20 PM</td>\n",
       "      <td>+234 810 108 3974</td>\n",
       "      <td>Class starts in the new year</td>\n",
       "    </tr>\n",
       "    <tr>\n",
       "      <th>1159</th>\n",
       "      <td>2022-11-26</td>\n",
       "      <td>5:21 PM</td>\n",
       "      <td>+234 806 307 5179</td>\n",
       "      <td>Ok 👍</td>\n",
       "    </tr>\n",
       "    <tr>\n",
       "      <th>1160</th>\n",
       "      <td>2022-11-26</td>\n",
       "      <td>5:22 PM</td>\n",
       "      <td>+234 806 307 5179</td>\n",
       "      <td>&lt;Media omitted&gt;</td>\n",
       "    </tr>\n",
       "  </tbody>\n",
       "</table>\n",
       "<p>1161 rows × 4 columns</p>\n",
       "</div>"
      ],
      "text/plain": [
       "           Date      Time             Author  \\\n",
       "0    2022-10-07  11:49 AM               None   \n",
       "1    2022-10-08   7:30 PM               None   \n",
       "2    2022-10-08   7:31 PM               None   \n",
       "3    2022-10-08   7:34 PM               None   \n",
       "4    2022-10-08   7:38 PM               None   \n",
       "...         ...       ...                ...   \n",
       "1156 2022-11-26   5:19 PM  +234 806 307 5179   \n",
       "1157 2022-11-26   5:20 PM               None   \n",
       "1158 2022-11-26   5:20 PM  +234 810 108 3974   \n",
       "1159 2022-11-26   5:21 PM  +234 806 307 5179   \n",
       "1160 2022-11-26   5:22 PM  +234 806 307 5179   \n",
       "\n",
       "                                                Message  \n",
       "0     +234 902 605 1084 created group \"Data Analysis...  \n",
       "1                           +234 902 605 1084 added you  \n",
       "2               +234 902 605 1084 added +44 7466 731014  \n",
       "3               +234 902 605 1084 added +44 7448 451577  \n",
       "4               +234 902 605 1084 added +44 7411 177313  \n",
       "...                                                 ...  \n",
       "1156  Does it mean there is another training this year?  \n",
       "1157  +234 810 108 3974: https://www.instagram.com/p...  \n",
       "1158                       Class starts in the new year  \n",
       "1159                                               Ok 👍  \n",
       "1160                                    <Media omitted>  \n",
       "\n",
       "[1161 rows x 4 columns]"
      ]
     },
     "execution_count": 11,
     "metadata": {},
     "output_type": "execute_result"
    }
   ],
   "source": [
    "df"
   ]
  },
  {
   "cell_type": "code",
   "execution_count": 12,
   "id": "41b0dde3",
   "metadata": {},
   "outputs": [
    {
     "name": "stdout",
     "output_type": "stream",
     "text": [
      "Note: you may need to restart the kernel to use updated packages.\n"
     ]
    },
    {
     "name": "stderr",
     "output_type": "stream",
     "text": [
      "ERROR: unknown command \"instal\" - maybe you meant \"install\"\n",
      "\n"
     ]
    }
   ],
   "source": [
    "pip instal openpyxl installing #installing excel reader so that i can export the dataframe in form of excel"
   ]
  },
  {
   "cell_type": "code",
   "execution_count": 14,
   "id": "9aefa721",
   "metadata": {},
   "outputs": [],
   "source": [
    "whatsapp=pd.ExcelWriter('whatsapp_chat.xlsx') #changing the structured pandas file to excel"
   ]
  },
  {
   "cell_type": "code",
   "execution_count": 16,
   "id": "fac8f571",
   "metadata": {},
   "outputs": [],
   "source": [
    "df.to_excel(r'C:\\Users\\User\\Downloads\\whatsapp_chat.xlsx') # exporting the excel file to my local file so that i can import to Power BI for analysis."
   ]
  },
  {
   "cell_type": "code",
   "execution_count": null,
   "id": "a63e7633",
   "metadata": {},
   "outputs": [],
   "source": []
  }
 ],
 "metadata": {
  "kernelspec": {
   "display_name": "Python 3 (ipykernel)",
   "language": "python",
   "name": "python3"
  },
  "language_info": {
   "codemirror_mode": {
    "name": "ipython",
    "version": 3
   },
   "file_extension": ".py",
   "mimetype": "text/x-python",
   "name": "python",
   "nbconvert_exporter": "python",
   "pygments_lexer": "ipython3",
   "version": "3.9.13"
  }
 },
 "nbformat": 4,
 "nbformat_minor": 5
}
